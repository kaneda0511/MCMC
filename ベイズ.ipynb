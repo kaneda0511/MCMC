{
 "cells": [
  {
   "cell_type": "markdown",
   "metadata": {},
   "source": [
    "## ベイズの考え方\n",
    "ベイズ推定とは出たデータ（結果）をもとに原因を推定する。"
   ]
  },
  {
   "cell_type": "markdown",
   "metadata": {},
   "source": [
    "## ベイズ更新"
   ]
  },
  {
   "cell_type": "code",
   "execution_count": 1,
   "metadata": {},
   "outputs": [],
   "source": [
    "import matplotlib.pyplot as plt\n",
    "from scipy.stats import bernoulli\n",
    "import numpy as np\n",
    "import pandas as pd\n",
    "%matplotlib inline"
   ]
  },
  {
   "cell_type": "markdown",
   "metadata": {},
   "source": [
    "matplotlibの書体設定"
   ]
  },
  {
   "cell_type": "code",
   "execution_count": 31,
   "metadata": {},
   "outputs": [],
   "source": [
    "plt.style.use(\"ggplot\")"
   ]
  },
  {
   "cell_type": "code",
   "execution_count": 41,
   "metadata": {},
   "outputs": [],
   "source": [
    "#事前データ\n",
    "p_a = 3.0 / 10\n",
    "p_b = 5.0 / 9.0\n",
    "p_prior = 0.5\n",
    "\n",
    "# 0:bule , 1:red\n",
    "# 0,1によりベルヌーイの二者選択を表している？\n",
    "data = [0,1,0,0,1,1,1]"
   ]
  },
  {
   "cell_type": "code",
   "execution_count": 37,
   "metadata": {},
   "outputs": [],
   "source": [
    "#どこまでのデータを使うかというパラメータ\n",
    "N_data = 6\n",
    "\n",
    "#尤度関数の設定（尤度関数はlikehoodと呼ばれる）\n",
    "likehood_a = bernoulli.pmf(data[:N_data],p_a)\n",
    "likehood_b = bernoulli.pmf(data[:N_data],p_b)"
   ]
  },
  {
   "cell_type": "code",
   "execution_count": 38,
   "metadata": {},
   "outputs": [
    {
     "data": {
      "text/plain": [
       "array([0.7, 0.3, 0.7, 0.7, 0.3, 0.3])"
      ]
     },
     "execution_count": 38,
     "metadata": {},
     "output_type": "execute_result"
    }
   ],
   "source": [
    "likehood_a"
   ]
  },
  {
   "cell_type": "code",
   "execution_count": 39,
   "metadata": {},
   "outputs": [
    {
     "data": {
      "text/plain": [
       "array([0.44444444, 0.55555556, 0.44444444, 0.44444444, 0.55555556,\n",
       "       0.55555556])"
      ]
     },
     "execution_count": 39,
     "metadata": {},
     "output_type": "execute_result"
    }
   ],
   "source": [
    "likehood_b"
   ]
  },
  {
   "cell_type": "code",
   "execution_count": 40,
   "metadata": {},
   "outputs": [
    {
     "data": {
      "text/plain": [
       "([<matplotlib.axis.XTick at 0x7fb910d4c3a0>,\n",
       "  <matplotlib.axis.XTick at 0x7fb910d4c370>],\n",
       " [Text(0, 0, 'a'), Text(1, 0, 'b')])"
      ]
     },
     "execution_count": 40,
     "metadata": {},
     "output_type": "execute_result"
    },
    {
     "data": {
      "image/png": "[encoded data removed]",
      "text/plain": [
       "<Figure size 432x288 with 1 Axes>"
      ]
     },
     "metadata": {},
     "output_type": "display_data"
    }
   ],
   "source": [
    "pa_posterior = p_prior\n",
    "pb_posterior = p_prior\n",
    "\n",
    "#np.prod 積和\n",
    "#ここでは尤度分布を求めている\n",
    "pa_posterior *= np.prod(likehood_a)\n",
    "pb_posterior *= np.prod(likehood_b)\n",
    "\n",
    "#規格化したら１になるように設定\n",
    "norm = pa_posterior + pb_posterior\n",
    "df = pd.DataFrame([pa_posterior/norm,pb_posterior/norm],columns=[\"post\"])\n",
    "\n",
    "x = np.arange(df.shape[0])\n",
    "plt.bar(x,df[\"post\"])\n",
    "plt.xticks(x,[\"a\",\"b\"])"
   ]
  }
 ],
 "metadata": {
  "interpreter": {
   "hash": "38a9d234814b4a76450ff8f45502c93f8b25cfa1806eaf223240433707b634f9"
  },
  "kernelspec": {
   "display_name": "Python 3.8.8 64-bit ('base': conda)",
   "name": "python3"
  },
  "language_info": {
   "codemirror_mode": {
    "name": "ipython",
    "version": 3
   },
   "file_extension": ".py",
   "mimetype": "text/x-python",
   "name": "python",
   "nbconvert_exporter": "python",
   "pygments_lexer": "ipython3",
   "version": "3.8.8"
  },
  "orig_nbformat": 4
 },
 "nbformat": 4,
 "nbformat_minor": 2
}
