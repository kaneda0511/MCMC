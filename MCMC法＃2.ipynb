{
 "cells": [
  {
   "cell_type": "code",
   "execution_count": 34,
   "id": "28383bed",
   "metadata": {},
   "outputs": [],
   "source": [
    "#棄却サンプリング\n",
    "\n",
    "import numpy as np\n",
    "import matplotlib.pyplot as plt\n",
    "\n",
    "#ベータ関数描画用\n",
    "from scipy.stats import beta\n",
    "\n",
    "#乱数を固定\n",
    "np.random.seed(1)\n",
    "\n",
    "#ベータ分布\n",
    "a,b = 10.2, 5.8\n",
    "x = np.linspace(0,1,100)#0から1を100分割\n",
    "y = beta(a,b).pdf(x)\n",
    "\n",
    "#棄却サンプリング\n",
    "N = 100000               #サンプリングする点の数（棄却込み）\n",
    "samples = np.array([])   #サンプリングした点データ\n",
    "K = 0.0013               #提案分布が目標分布を覆うようにする\n",
    "\n",
    "for n in range(N):\n",
    "    xp = np.random.uniform(0,1) #uniformは乱数生成\n",
    "    yp = np.random.uniform(0,K)\n",
    "    pdf = (xp**(a-1)*(1-xp)**(b-1)) #ここは目標分布であるベータ分布\n",
    "    if (yp<=pdf):\n",
    "        samples = np.append(samples,xp)"
   ]
  },
  {
   "cell_type": "code",
   "execution_count": 35,
   "id": "22ef490c",
   "metadata": {},
   "outputs": [
    {
     "name": "stdout",
     "output_type": "stream",
     "text": [
      "サンプリングを試みた回数: 100000 回\n",
      "サンプリング個数: 2907 個\n"
     ]
    }
   ],
   "source": [
    "#統計量を比較\n",
    "\n",
    "#データ\n",
    "print(\"サンプリングを試みた回数:\",N,\"回\")\n",
    "print(\"サンプリング個数:\",len(samples),\"個\")"
   ]
  },
  {
   "cell_type": "code",
   "execution_count": 36,
   "id": "b63d19af",
   "metadata": {},
   "outputs": [
    {
     "name": "stdout",
     "output_type": "stream",
     "text": [
      "サンプリング　事後期待値: 0.6380349509132323\n",
      "真の値　　　　事後期待値: 0.6375\n"
     ]
    }
   ],
   "source": [
    "#事後平均値\n",
    "mu = np.sum(samples) / len(samples);\n",
    "print(\"サンプリング　事後期待値:\",mu)\n",
    "print(\"真の値　　　　事後期待値:\",a/(a+b)) #a/(a+b)はパラメータa,bのベータ分布の期待値"
   ]
  },
  {
   "cell_type": "code",
   "execution_count": 37,
   "id": "4ee82981",
   "metadata": {},
   "outputs": [
    {
     "name": "stdout",
     "output_type": "stream",
     "text": [
      "サンプリング　事後分散: 0.013065766151716899\n",
      "真の値　　　　事後分散: 0.003676470588235294\n"
     ]
    }
   ],
   "source": [
    "#事後分散\n",
    "v = np.sum((samples-mu)**2)/len(samples);\n",
    "print(\"サンプリング　事後分散:\",v)\n",
    "print(\"真の値　　　　事後分散:\",(a+b)/(((a+b)**2)*(a+b+1)))"
   ]
  },
  {
   "cell_type": "code",
   "execution_count": 38,
   "id": "b7413fcf",
   "metadata": {},
   "outputs": [
    {
     "name": "stdout",
     "output_type": "stream",
     "text": [
      "サンプリング　事後標準偏差: 0.11430558232963471\n",
      "真の値　　　　事後標準偏差: 0.06063390625908324\n"
     ]
    }
   ],
   "source": [
    "#事後標準偏差\n",
    "print(\"サンプリング　事後標準偏差:\",v**0.5)\n",
    "print(\"真の値　　　　事後標準偏差:\",((a+b)/(((a+b)**2)*(a+b+1)))**0.5)"
   ]
  },
  {
   "cell_type": "code",
   "execution_count": 39,
   "id": "d00a85e6",
   "metadata": {},
   "outputs": [
    {
     "name": "stdout",
     "output_type": "stream",
     "text": [
      "サンプリング　事後確率最大値: 0.6571520872500076\n",
      "真の値　　　　事後確率最大値: 0.6571428571428571\n"
     ]
    }
   ],
   "source": [
    "#事後確率最大値\n",
    "maxIndex = np.argmax((samples**(a-1))*((1-samples)**(b-1)))\n",
    "print(\"サンプリング　事後確率最大値:\",samples[maxIndex])\n",
    "print(\"真の値　　　　事後確率最大値:\",(a-1)/(a+b-2))"
   ]
  },
  {
   "cell_type": "code",
   "execution_count": 40,
   "id": "f6a16a73",
   "metadata": {},
   "outputs": [
    {
     "name": "stdout",
     "output_type": "stream",
     "text": [
      "サンプリング　事後中央値 0.6462330810271018\n",
      "真の値(np)　 事後中央値 0.6433608949743185\n",
      "真の値(wiki) 事後中央値 0.643478260869565\n"
     ]
    }
   ],
   "source": [
    "#事後中央値\n",
    "sorted_samples = sorted(samples)\n",
    "#奇数\n",
    "if(len(sorted_samples) % 2 != 0):\n",
    "    midIndex = int((len(sorted_samples)-1)/2)\n",
    "    midX = sorted_samples[midIndex]\n",
    "else:\n",
    "    midIndex = int(len(sorted_samples)/2)\n",
    "    midX = (sorted_samples[midIndex]+sorted_samples[midIndex-1])/2\n",
    "print(\"サンプリング　事後中央値\",midX)\n",
    "print(\"真の値(np)　 事後中央値\",beta(a,b).median())\n",
    "print(\"真の値(wiki) 事後中央値\",(a-(1/3))/(a+b-(2/3)))"
   ]
  },
  {
   "cell_type": "code",
   "execution_count": 41,
   "id": "891c9467",
   "metadata": {},
   "outputs": [
    {
     "data": {
      "image/png": "[encoded data removed]",
      "text/plain": [
       "<Figure size 432x288 with 1 Axes>"
      ]
     },
     "metadata": {
      "needs_background": "light"
     },
     "output_type": "display_data"
    }
   ],
   "source": [
    "#描画\n",
    "plt.plot(x,y)\n",
    "#density=Trueで正規化\n",
    "plt.hist(samples,bins=30,density=True,alpha=0.5)\n",
    "plt.show()"
   ]
  },
  {
   "cell_type": "code",
   "execution_count": 42,
   "id": "7b03ab66",
   "metadata": {},
   "outputs": [
    {
     "data": {
      "text/plain": [
       "array([0.56103022, 0.55971698, 0.75275555, ..., 0.7713486 , 0.56547984,\n",
       "       0.54913823])"
      ]
     },
     "execution_count": 42,
     "metadata": {},
     "output_type": "execute_result"
    }
   ],
   "source": [
    "samples"
   ]
  },
  {
   "cell_type": "code",
   "execution_count": 43,
   "id": "e792ea12",
   "metadata": {},
   "outputs": [
    {
     "data": {
      "text/plain": [
       "2907"
      ]
     },
     "execution_count": 43,
     "metadata": {},
     "output_type": "execute_result"
    }
   ],
   "source": [
    "np.size(samples)"
   ]
  },
  {
   "cell_type": "code",
   "execution_count": 44,
   "id": "6522d279",
   "metadata": {},
   "outputs": [
    {
     "data": {
      "text/plain": [
       "1"
      ]
     },
     "execution_count": 44,
     "metadata": {},
     "output_type": "execute_result"
    }
   ],
   "source": [
    "np.size(xp)"
   ]
  },
  {
   "cell_type": "code",
   "execution_count": 45,
   "id": "ede56d78",
   "metadata": {},
   "outputs": [
    {
     "data": {
      "text/plain": [
       "1"
      ]
     },
     "execution_count": 45,
     "metadata": {},
     "output_type": "execute_result"
    }
   ],
   "source": [
    "np.size(pdf)"
   ]
  },
  {
   "cell_type": "code",
   "execution_count": 46,
   "id": "6d606196",
   "metadata": {},
   "outputs": [
    {
     "data": {
      "text/plain": [
       "1.892708034400287e-06"
      ]
     },
     "execution_count": 46,
     "metadata": {},
     "output_type": "execute_result"
    }
   ],
   "source": [
    "pdf"
   ]
  },
  {
   "cell_type": "code",
   "execution_count": 47,
   "id": "a1432781",
   "metadata": {},
   "outputs": [
    {
     "data": {
      "text/plain": [
       "100"
      ]
     },
     "execution_count": 47,
     "metadata": {},
     "output_type": "execute_result"
    }
   ],
   "source": [
    "np.size(x)"
   ]
  },
  {
   "cell_type": "code",
   "execution_count": 48,
   "id": "d0a8bf14",
   "metadata": {},
   "outputs": [
    {
     "data": {
      "text/plain": [
       "(array([  6.,  25.,  97., 273., 513., 662., 702., 443., 166.,  20.]),\n",
       " array([0.21429751, 0.28816904, 0.36204058, 0.43591212, 0.50978366,\n",
       "        0.58365519, 0.65752673, 0.73139827, 0.8052698 , 0.87914134,\n",
       "        0.95301288]),\n",
       " <BarContainer object of 10 artists>)"
      ]
     },
     "execution_count": 48,
     "metadata": {},
     "output_type": "execute_result"
    },
    {
     "data": {
      "image/png": "[encoded data removed]",
      "text/plain": [
       "<Figure size 432x288 with 1 Axes>"
      ]
     },
     "metadata": {
      "needs_background": "light"
     },
     "output_type": "display_data"
    }
   ],
   "source": [
    "plt.hist(samples)"
   ]
  },
  {
   "cell_type": "code",
   "execution_count": null,
   "id": "ecf54013",
   "metadata": {},
   "outputs": [],
   "source": []
  }
 ],
 "metadata": {
  "kernelspec": {
   "display_name": "Python 3",
   "language": "python",
   "name": "python3"
  },
  "language_info": {
   "codemirror_mode": {
    "name": "ipython",
    "version": 3
   },
   "file_extension": ".py",
   "mimetype": "text/x-python",
   "name": "python",
   "nbconvert_exporter": "python",
   "pygments_lexer": "ipython3",
   "version": "3.8.8"
  }
 },
 "nbformat": 4,
 "nbformat_minor": 5
}
